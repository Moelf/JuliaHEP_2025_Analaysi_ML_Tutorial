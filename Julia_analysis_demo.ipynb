{
 "cells": [
  {
   "cell_type": "markdown",
   "id": "0d5ec980",
   "metadata": {
    "slideshow": {
     "slide_type": "slide"
    }
   },
   "source": [
    "## Analysis in Julia - fast from get go"
   ]
  },
  {
   "cell_type": "markdown",
   "id": "3c069e33",
   "metadata": {
    "slideshow": {
     "slide_type": "subslide"
    }
   },
   "source": [
    "## Accessing TTrees\n",
    "\n",
    "UnROOT.jl: reading ROOT data in pure Julia (when we wrote this, we wish we could just wrap some .so)\n",
    "\n",
    "\n",
    "- It's not as robust as uproot, but close (e.g NanoAOD ✅).\n",
    "\n",
    "- works with Tables.jl interface, you can using DataFrames.jl or using Arrow.jl to write to disk.\n",
    "\n",
    "Also supports RNTuple, future proof™, in fact, more robust thanks to RNTuple having a spec!"
   ]
  },
  {
   "cell_type": "code",
   "execution_count": 39,
   "id": "8e05c20e",
   "metadata": {
    "slideshow": {
     "slide_type": "subslide"
    }
   },
   "outputs": [
    {
     "data": {
      "text/plain": [
       "\u001b[1m Row \u001b[0m│\u001b[1m Electron_mass   \u001b[0m\u001b[1m nElectron \u001b[0m\u001b[1m luminosityBlock \u001b[0m\u001b[1m nMuon  \u001b[0m\u001b[1m Electron_phi    \u001b[0m\u001b[1m M\u001b[0m ⋯\n",
       "     │\u001b[90m SubArray{Float3 \u001b[0m\u001b[90m UInt32    \u001b[0m\u001b[90m UInt32          \u001b[0m\u001b[90m UInt32 \u001b[0m\u001b[90m SubArray{Float3 \u001b[0m\u001b[90m F\u001b[0m ⋯\n",
       "─────┼──────────────────────────────────────────────────────────────────────────\n",
       " 1   │ []               0          156              3       []               - ⋯\n",
       " 2   │ [0.00544,        4          156              0       [0.134, -1       2 ⋯\n",
       " 3   │ [-0.00609,       2          156              0       [2.18, 1.6       - ⋯\n",
       " 4   │ [-0.00123]       1          156              7       [-0.643]         - ⋯\n",
       " 5   │ [0.0117, 0       4          156              0       [1.01, -1.       1 ⋯\n",
       " 6   │ [-0.00183]       1          156              2       [-0.497]         - ⋯\n",
       " 7   │ [-0.00183]       1          156              1       [-1.47]          - ⋯\n",
       " 8   │ [-0.00216]       1          156              0       [-0.633]         - ⋯\n",
       " 9   │ [-0.0128,        4          156              0       [2.79, -2.       - ⋯\n",
       " 10  │ []               0          156              0       []               - ⋯\n",
       " 11  │ [-0.00119,       2          156              1       [2.28, -2.       0 ⋯\n",
       " 12  │ [0.00608,        3          156              2       [-1.31, -1       2 ⋯\n",
       " 13  │ [-0.00765,       4          156              0       [2.52, -3.       - ⋯\n",
       " 14  │ []               0          156              2       []               - ⋯\n",
       " 15  │ []               0          156              0       []               - ⋯\n",
       " 16  │ []               0          156              2       []               - ⋯\n",
       " 17  │ [0.0149, -       4          156              1       [1.82, -2.       - ⋯\n",
       " 18  │ [0.0407]         1          156              1       [2.18]           0 ⋯\n",
       " 19  │ []               0          156              3       []               - ⋯\n",
       " 20  │ [0.0144, 0       2          156              3       [-2.56, -2       0 ⋯\n",
       " 21  │ [-0.00491,       2          156              2       [-1.41, 0.       1 ⋯\n",
       "  ⋮  │        ⋮             ⋮             ⋮           ⋮            ⋮           ⋱\n",
       "\u001b[36m                                              27 columns and 299952 rows omitted\u001b[0m\n"
      ]
     },
     "execution_count": 39,
     "metadata": {},
     "output_type": "execute_result"
    }
   ],
   "source": [
    "# const is important for type stability, recall Julia's compilation model\n",
    "const events = LazyTree(\"./data/SMHiggsToZZTo4L.root\", \"Events\")"
   ]
  },
  {
   "cell_type": "markdown",
   "id": "fb2527e0",
   "metadata": {
    "slideshow": {
     "slide_type": "subslide"
    }
   },
   "source": [
    "You can think of `events` as a table (dataframe), except Julia (unlike Numpy) never had the limitation arround jagged array. For example, the `Muon_*` columns are vector of vectors:"
   ]
  },
  {
   "cell_type": "code",
   "execution_count": 40,
   "id": "9cfbc092",
   "metadata": {
    "scrolled": true
   },
   "outputs": [
    {
     "data": {
      "text/plain": [
       "4-element Vector{Vector{Int32}}:\n",
       " [1, -1, 1]\n",
       " []\n",
       " []\n",
       " [1, -1, -1, 1, -1, -1, 1]"
      ]
     },
     "execution_count": 40,
     "metadata": {},
     "output_type": "execute_result"
    }
   ],
   "source": [
    "first(events.Muon_charge, 4)"
   ]
  },
  {
   "cell_type": "markdown",
   "id": "511d9e72",
   "metadata": {},
   "source": [
    "### Loop and vectorized style -- gotta catch them all\n",
    "\n",
    "At this point you probably have seen various performance trade-offs in Python + C++ land, namely:\n",
    "- avoid loop in CPython, deligate to C++ to process batch (aka Numpy)\n",
    "- but this solution excessively allocates for intermediates, especially when program logic is non-trivial\n",
    "\n",
    "(we will comment on this \"vectorzied style -> intermidiates allocation in a moment)\n",
    "\n",
    "- try Numba when possible\n",
    "- but Numba never Just™ works when you have complex dependencies (uproot, awkward, or any other C++ stuff)"
   ]
  },
  {
   "cell_type": "markdown",
   "id": "78cd1fb2",
   "metadata": {},
   "source": [
    "Julia gives you fast for loop doesn't mean you can only write loops, vectorized style is useful!"
   ]
  },
  {
   "cell_type": "code",
   "execution_count": 41,
   "id": "abdb89ba",
   "metadata": {
    "slideshow": {
     "slide_type": "subslide"
    }
   },
   "outputs": [
    {
     "data": {
      "text/plain": [
       "3-element Vector{LorentzVectorCyl{Float32}}:\n",
       " LorentzVectorCyl{Float32}(pt=63.04387, eta=-0.7186822, phi=2.968006, mass=0.10565837)\n",
       " LorentzVectorCyl{Float32}(pt=38.120346, eta=-0.879457, phi=-1.032475, mass=0.10565837)\n",
       " LorentzVectorCyl{Float32}(pt=4.0486875, eta=-0.32076442, phi=1.0385035, mass=0.10565837)"
      ]
     },
     "execution_count": 41,
     "metadata": {},
     "output_type": "execute_result"
    }
   ],
   "source": [
    "using LorentzVectorHEP\n",
    "one_event = first(events);\n",
    "\n",
    "# destruct syntax sugar\n",
    "(; Muon_pt, Muon_eta, Muon_phi, Muon_mass) = one_event\n",
    "\n",
    "muons = LorentzVectorCyl.(Muon_pt, Muon_eta, Muon_phi, Muon_mass)\n",
    "#                       ^---- this is broadcast"
   ]
  },
  {
   "cell_type": "markdown",
   "id": "9512a05c",
   "metadata": {
    "slideshow": {
     "slide_type": "slide"
    }
   },
   "source": [
    "## Reconstruct H->ZZ->4 mu\n",
    "\n",
    "Ignore electrons for a moment:\n",
    "1. Require exactly 2 positive and 2 negative muons\n",
    "2. Sum up the 4-vectors of these four muons\n",
    "3. fill histogram"
   ]
  },
  {
   "cell_type": "markdown",
   "id": "4fbaf265",
   "metadata": {
    "slideshow": {
     "slide_type": "subslide"
    }
   },
   "source": [
    "### Part 1, early continue if doesn't pass selection\n",
    "\n",
    "```julia\n",
    "(; Muon_charge) = evt\n",
    "\n",
    "if length(Muon_charge) != 4\n",
    "    continue\n",
    "end\n",
    "\n",
    "sum(Muon_charge) != 0 && continue # shortcut if-else\n",
    "```"
   ]
  },
  {
   "cell_type": "markdown",
   "id": "cfe8d2fc",
   "metadata": {
    "slideshow": {
     "slide_type": "subslide"
    }
   },
   "source": [
    "### Part 2, reconstruct the higgs\n",
    "`fast_mass()` also available\n",
    "\n",
    "```julia\n",
    "\n",
    "(; Muon_pt, Muon_eta, Muon_phi, Muon_mass) = evt\n",
    "\n",
    "higgs_4vector = sum(LorentzVectorCyl.(Muon_pt, Muon_eta, Muon_phi, Muon_mass))\n",
    "    \n",
    "higgs_mass = mass(higgs_4vector)\n",
    "```"
   ]
  },
  {
   "cell_type": "markdown",
   "id": "fba45236",
   "metadata": {
    "slideshow": {
     "slide_type": "fragment"
    }
   },
   "source": [
    "### Part 3, fill histogram\n",
    "```julia\n",
    "higgs_mass = mass(higgs_4vector)\n",
    "```\n"
   ]
  },
  {
   "cell_type": "code",
   "execution_count": 42,
   "id": "526164cd",
   "metadata": {
    "slideshow": {
     "slide_type": "subslide"
    }
   },
   "outputs": [
    {
     "data": {
      "text/plain": [
       "main_looper (generic function with 1 method)"
      ]
     },
     "execution_count": 42,
     "metadata": {},
     "output_type": "execute_result"
    }
   ],
   "source": [
    "using FHist\n",
    "\n",
    "function main_looper(events)\n",
    "    hist = Hist1D(Float64; bins=90:140)\n",
    "    for evt in events\n",
    "        ### Part 1\n",
    "        (; Muon_charge) = evt\n",
    "        if length(Muon_charge) != 4\n",
    "            continue\n",
    "        end\n",
    "        sum(Muon_charge) != 0 && continue # shortcut if-else\n",
    "        \n",
    "        ### Part 2\n",
    "        (; Muon_pt, Muon_eta, Muon_phi, Muon_mass) = evt\n",
    "        higgs_4vector = sum(LorentzVectorCyl.(Muon_pt, Muon_eta, Muon_phi, Muon_mass))\n",
    "        higgs_mass = mass(higgs_4vector)\n",
    "        \n",
    "        ### Part 3\n",
    "        push!(hist, higgs_mass)\n",
    "    end\n",
    "    \n",
    "    \n",
    "    return hist\n",
    "end"
   ]
  },
  {
   "cell_type": "markdown",
   "id": "4fea0bf7",
   "metadata": {},
   "source": [
    "more benchmarks: https://github.com/Moelf/UnROOT_RDataFrame_MiniBenchmark"
   ]
  },
  {
   "cell_type": "code",
   "execution_count": 43,
   "id": "87857ed6",
   "metadata": {
    "slideshow": {
     "slide_type": "subslide"
    }
   },
   "outputs": [
    {
     "name": "stdout",
     "output_type": "stream",
     "text": [
      "  0.062103 seconds (22.65 k allocations: 51.361 MiB, 14.13% gc time)\n"
     ]
    },
    {
     "data": {
      "text/html": [
       "<div style=\"display: flex;\">\n",
       "    <div style=\"float:left; margin:5px\"><svg width=\"250\" height=\"200\" version=\"1.1\" xmlns=\"http://www.w3.org/2000/svg\">\n",
       "    <polyline points=\"12.5,180.0,12.5,178.56518739940216,17.0,178.56518739940216,17.0,178.85950793285815,21.5,178.85950793285815,21.5,178.8962979995401,26.000000000000004,178.8962979995401,26.000000000000004,178.82271786617613,30.500000000000004,178.82271786617613,30.500000000000004,178.52839733272017,35.0,178.52839733272017,35.0,178.60197746608418,39.50000000000001,178.60197746608418,39.50000000000001,178.56518739940216,44.00000000000001,178.56518739940216,44.00000000000001,178.4548171993562,48.50000000000001,178.4548171993562,48.50000000000001,178.19728673258223,53.00000000000001,178.19728673258223,53.00000000000001,177.93975626580826,57.50000000000001,177.93975626580826,57.50000000000001,177.90296619912624,62.00000000000001,177.90296619912624,62.00000000000001,177.3511151988963,66.5,177.3511151988963,66.5,177.24074499885032,71.00000000000001,177.24074499885032,71.00000000000001,177.46148539894227,75.50000000000001,177.46148539894227,75.50000000000001,176.83605426534837,80.00000000000001,176.83605426534837,80.00000000000001,176.3577833984824,84.50000000000001,176.3577833984824,84.50000000000001,177.1671648654863,89.00000000000001,177.1671648654863,89.00000000000001,176.6888939986204,93.50000000000001,176.6888939986204,93.50000000000001,177.13037479880433,98.00000000000001,177.13037479880433,98.00000000000001,177.27753506553233,102.50000000000001,177.27753506553233,102.50000000000001,176.32099333180042,107.00000000000001,176.32099333180042,107.00000000000001,176.02667279834446,111.50000000000001,176.02667279834446,111.50000000000001,176.10025293170844,116.00000000000001,176.10025293170844,116.00000000000001,175.95309266498046,120.50000000000001,175.95309266498046,120.50000000000001,174.62865026442861,125.00000000000001,174.62865026442861,125.00000000000001,174.44469993101862,129.50000000000003,174.44469993101862,129.50000000000003,174.26074959760865,134.00000000000003,174.26074959760865,134.00000000000003,173.08346746378479,138.50000000000003,173.08346746378479,138.50000000000003,172.42124626350886,143.00000000000003,172.42124626350886,143.00000000000003,169.66199126235918,147.50000000000003,169.66199126235918,147.50000000000003,165.9461945274776,152.00000000000003,165.9461945274776,152.00000000000003,157.7052195907105,156.50000000000003,157.7052195907105,156.50000000000003,138.05932398252472,161.00000000000003,138.05932398252472,161.00000000000003,84.16187629340078,165.50000000000003,84.16187629340078,165.50000000000003,19.999999999999996,170.00000000000003,19.999999999999996,170.00000000000003,34.2009657392504,174.50000000000003,34.2009657392504,174.50000000000003,116.24281444010118,179.00000000000003,116.24281444010118,179.00000000000003,159.98620372499425,183.50000000000003,159.98620372499425,183.50000000000003,174.44469993101862,188.00000000000003,174.44469993101862,188.00000000000003,176.90963439871234,192.50000000000003,176.90963439871234,192.50000000000003,178.85950793285815,197.00000000000003,178.85950793285815,197.00000000000003,178.78592779949415,201.50000000000003,178.78592779949415,201.50000000000003,178.8962979995401,206.00000000000003,178.8962979995401,206.00000000000003,179.41135893308805,210.50000000000003,179.41135893308805,210.50000000000003,179.74246953322603,215.00000000000003,179.74246953322603,215.00000000000003,179.55851919981603,219.50000000000003,179.55851919981603,219.50000000000003,179.52172913313407,224.00000000000003,179.52172913313407,224.00000000000003,179.85283973327202,228.50000000000003,179.85283973327202,228.50000000000003,179.63209933318007,233.00000000000003,179.63209933318007,233.00000000000003,179.74246953322603,237.50000000000003,179.74246953322603,237.5,180.0,12.5,180.0\" stroke=\"black\" fill=\"#ffffff00\" stroke-width=\"1\"/>\n",
       "    <polyline points=\"12.5,180.0,237.5,180.0\" stroke=\"black\" stroke-width=\"1\"/>\n",
       "    <text x=\"12.5\" y=\"190.0\" dominant-baseline=\"middle\" text-anchor=\"start\" fill=\"black\">90.0</text>\n",
       "    <text x=\"237.5\" y=\"190.0\" dominant-baseline=\"middle\" text-anchor=\"end\" fill=\"black\">140.0</text>\n",
       "</svg>\n",
       "</div>\n",
       "    <div style=\"float:left; margin:5px; max-width: 50%; display:flex; justify-content:center; align-items:center;\">\n",
       "        <ul>\n",
       "            <li>edges: 90:140</li>\n",
       "            <li>bin counts: [39.0, 31.0, 30.0, 32.0, 40.0, 38.0, 39.0, 42.0, 49.0, 56.0  …  31.0, 33.0, 30.0, 16.0, 7.0, 12.0, 13.0, 4.0, 10.0, 7.0]</li>\n",
       "            <li>maximum count: 4349.0</li>\n",
       "            <li>total count: 18445.0</li>\n",
       "        </ul>\n",
       "    </div>\n",
       "</div>\n",
       "\n"
      ],
      "text/plain": [
       "edges: 90:140\n",
       "bin counts: [39.0, 31.0, 30.0, 32.0, 40.0, 38.0, 39.0, 42.0, 49.0, 56.0  …  31.0, 33.0, 30.0, 16.0, 7.0, 12.0, 13.0, 4.0, 10.0, 7.0]\n",
       "total count: 18445.0"
      ]
     },
     "execution_count": 43,
     "metadata": {},
     "output_type": "execute_result"
    }
   ],
   "source": [
    "h1 = @time main_looper(events) # file size too small to be realistic, but I guess it's not slow"
   ]
  },
  {
   "cell_type": "code",
   "execution_count": 44,
   "id": "684d9046",
   "metadata": {
    "slideshow": {
     "slide_type": "subslide"
    }
   },
   "outputs": [
    {
     "data": {
      "image/png": "[encoded data removed]"
     },
     "execution_count": 44,
     "metadata": {},
     "output_type": "execute_result"
    }
   ],
   "source": [
    "using CairoMakie\n",
    "\n",
    "stairs(main_looper(events);\n",
    "    axis = (xlabel=\"4-muon inv. mass (GeV)\",\n",
    "        xticks = 0:5:140,\n",
    "        ylabel=\"Entries (unweighted)\",\n",
    "        limits=(nothing, nothing, 0, nothing)\n",
    "    )\n",
    ")"
   ]
  },
  {
   "cell_type": "markdown",
   "id": "4ec2840d",
   "metadata": {
    "slideshow": {
     "slide_type": "slide"
    }
   },
   "source": [
    "## Bonus: Implement the uproot version from yesterday\n",
    "\n",
    "Recall what we saw yesterday:\n",
    "```python\n",
    "muplus = events.muon[events.muon.charge > 0]\n",
    "muminus = events.muon[events.muon.charge < 0]\n",
    "\n",
    "mu1, mu2 = ak.unzip(ak.cartesian((muplus, muminus)))\n",
    "\n",
    "plt.hist(ak.ravel(\n",
    "    \n",
    "    (mu1 + mu2).mass\n",
    "\n",
    "), bins=100, range=(0, 100));\n",
    "\n",
    "\n",
    "```\n",
    "\n",
    "this makes pair-wise mass (within each event) between all possible combinations of mu+ mu- pair."
   ]
  },
  {
   "cell_type": "markdown",
   "id": "72cddcef",
   "metadata": {},
   "source": [
    "Hint:\n",
    "- feel free to make masks out of `Muon_charge .> 0` and ` .< 0`, broadcast\n",
    "- `Iterators.product` instead of `ak.cartesian`\n",
    "- instead of `ak.ravel`, a loop `for (m1, m2) in Iterators.product(...)` might be easier\n",
    "\n",
    "*Solution in next cell in notebook*"
   ]
  },
  {
   "cell_type": "code",
   "execution_count": 45,
   "id": "c5b11525",
   "metadata": {
    "slideshow": {
     "slide_type": "skip"
    }
   },
   "outputs": [
    {
     "data": {
      "text/plain": [
       "main_2 (generic function with 1 method)"
      ]
     },
     "execution_count": 45,
     "metadata": {},
     "output_type": "execute_result"
    }
   ],
   "source": [
    "using FHist\n",
    "\n",
    "function main_2(events)\n",
    "    hist = Hist1D(Float64; bins=0:100)\n",
    "    for evt in events\n",
    "        ### Part 1\n",
    "        (; Muon_charge) = evt\n",
    "        muplus = Muon_charge .> 0\n",
    "        muminus = Muon_charge .< 0\n",
    "        \n",
    "        (; Muon_pt, Muon_eta, Muon_phi, Muon_mass) = evt\n",
    "        muons = LorentzVectorCyl.(Muon_pt, Muon_eta, Muon_phi, Muon_mass)\n",
    "        \n",
    "        muons_product = @views Iterators.product(muons[muplus], muons[muminus])\n",
    "        \n",
    "        for (mu1, mu2) in muons_product\n",
    "            higgs_mass = fast_mass(mu1, mu2)\n",
    "            push!(hist, higgs_mass)\n",
    "        end\n",
    "    end\n",
    "    \n",
    "    \n",
    "    return hist\n",
    "end"
   ]
  },
  {
   "cell_type": "code",
   "execution_count": 46,
   "id": "dbaab27e",
   "metadata": {
    "slideshow": {
     "slide_type": "skip"
    }
   },
   "outputs": [
    {
     "name": "stdout",
     "output_type": "stream",
     "text": [
      "  0.202219 seconds (2.10 M allocations: 174.800 MiB, 19.69% gc time)\n"
     ]
    },
    {
     "data": {
      "text/html": [
       "<div style=\"display: flex;\">\n",
       "    <div style=\"float:left; margin:5px\"><svg width=\"250\" height=\"200\" version=\"1.1\" xmlns=\"http://www.w3.org/2000/svg\">\n",
       "    <polyline points=\"12.5,180.0,12.5,160.84942084942085,14.750000000000002,160.84942084942085,14.750000000000002,156.10719963661143,17.0,156.10719963661143,17.0,150.11128775834658,19.25,150.11128775834658,19.25,143.55212355212353,21.5,143.55212355212353,21.5,135.73926868044515,23.750000000000004,135.73926868044515,23.750000000000004,120.29525323642972,26.000000000000004,120.29525323642972,26.000000000000004,115.84374290256645,28.250000000000004,115.84374290256645,28.250000000000004,118.20576879400409,30.500000000000004,118.20576879400409,30.500000000000004,118.55098796275267,32.75,118.55098796275267,32.75,116.24347036111745,35.0,116.24347036111745,35.0,114.55371337724279,37.25000000000001,114.55371337724279,37.25000000000001,112.60958437429025,39.50000000000001,112.60958437429025,39.50000000000001,112.51873722461958,41.75000000000001,112.51873722461958,41.75000000000001,109.93867817397229,44.00000000000001,109.93867817397229,44.00000000000001,108.01271860095389,46.25000000000001,108.01271860095389,46.25000000000001,108.10356575062458,48.50000000000001,108.10356575062458,48.50000000000001,103.61571655689303,50.75000000000001,103.61571655689303,50.75000000000001,101.78060413354531,53.00000000000001,101.78060413354531,53.00000000000001,97.7106518282989,55.25000000000001,97.7106518282989,55.25000000000001,95.02157619804679,57.50000000000001,95.02157619804679,57.50000000000001,92.02362025891439,59.75000000000001,92.02362025891439,59.75000000000001,89.4435612082671,62.00000000000001,89.4435612082671,62.00000000000001,84.2652736770384,64.25,84.2652736770384,64.25,86.26391096979333,66.5,86.26391096979333,66.5,82.33931410401999,68.75000000000001,82.33931410401999,68.75000000000001,78.86895298660006,71.00000000000001,78.86895298660006,71.00000000000001,80.83125141948672,73.25000000000001,80.83125141948672,73.25000000000001,78.59641153758801,75.50000000000001,78.59641153758801,75.50000000000001,80.94026799909153,77.75000000000001,80.94026799909153,77.75000000000001,80.467862820804,80.00000000000001,80.467862820804,80.00000000000001,82.86622757210993,82.25000000000001,82.86622757210993,82.25000000000001,90.15216897569839,84.50000000000001,90.15216897569839,84.50000000000001,99.14603679309563,86.75000000000001,99.14603679309563,86.75000000000001,107.97637974108562,89.00000000000001,107.97637974108562,89.00000000000001,118.47831024301611,91.25000000000001,118.47831024301611,91.25000000000001,124.32886668180787,93.50000000000001,124.32886668180787,93.50000000000001,128.762207585737,95.75000000000001,128.762207585737,95.75000000000001,130.10674540086305,98.00000000000001,130.10674540086305,98.00000000000001,133.1228707699296,100.25000000000001,133.1228707699296,100.25000000000001,134.75811946400182,102.50000000000001,134.75811946400182,102.50000000000001,134.23120599591186,104.75000000000001,134.23120599591186,104.75000000000001,136.55689302748127,107.00000000000001,136.55689302748127,107.00000000000001,139.5730183965478,109.25000000000001,139.5730183965478,109.25000000000001,139.3731546672723,111.50000000000001,139.3731546672723,111.50000000000001,138.57369975017036,113.75000000000001,138.57369975017036,113.75000000000001,140.60867590279355,116.00000000000001,140.60867590279355,116.00000000000001,142.82534635475812,118.25000000000001,142.82534635475812,118.25000000000001,141.8078582784465,120.50000000000001,141.8078582784465,120.50000000000001,144.93300022711787,122.75000000000001,144.93300022711787,122.75000000000001,145.5507608448785,125.00000000000001,145.5507608448785,125.00000000000001,146.89529866000456,127.25000000000001,146.89529866000456,127.25000000000001,146.69543493072905,129.50000000000003,146.69543493072905,129.50000000000003,148.71224165341812,131.75000000000003,148.71224165341812,131.75000000000003,150.03861003861005,134.00000000000003,150.03861003861005,134.00000000000003,149.52986600045423,136.25000000000003,149.52986600045423,136.25000000000003,150.2203043379514,138.50000000000003,150.2203043379514,138.50000000000003,151.11060640472408,140.75000000000003,151.11060640472408,140.75000000000003,153.98137633431753,143.00000000000003,153.98137633431753,143.00000000000003,154.8353395412219,145.25000000000003,154.8353395412219,145.25000000000003,156.07086077674313,147.50000000000003,156.07086077674313,147.50000000000003,155.10788099023392,149.75000000000003,155.10788099023392,149.75000000000003,156.74312968430618,152.00000000000003,156.74312968430618,152.00000000000003,157.1610265727913,154.25000000000003,157.1610265727913,154.25000000000003,158.32387008857597,156.50000000000003,158.32387008857597,156.50000000000003,158.50556438791733,158.75000000000003,158.50556438791733,158.75000000000003,160.61321826027708,161.00000000000003,160.61321826027708,161.00000000000003,160.08630479218715,163.25000000000003,160.08630479218715,163.25000000000003,161.2309788780377,165.50000000000003,161.2309788780377,165.50000000000003,161.15830115830116,167.75000000000003,161.15830115830116,167.75000000000003,162.3938223938224,170.00000000000003,162.3938223938224,170.00000000000003,162.37565296388829,172.25000000000003,162.37565296388829,172.25000000000003,162.30297524415172,174.50000000000003,162.30297524415172,174.50000000000003,163.17510788099023,176.75000000000003,163.17510788099023,176.75000000000003,162.63002498296618,179.00000000000003,162.63002498296618,179.00000000000003,164.13808766749943,181.25000000000003,164.13808766749943,181.25000000000003,163.57483533954124,183.50000000000003,163.57483533954124,183.50000000000003,162.12128094481037,185.75000000000003,162.12128094481037,185.75000000000003,161.84873949579833,188.00000000000003,161.84873949579833,188.00000000000003,160.9220985691574,190.25000000000003,160.9220985691574,190.25000000000003,160.867590279355,192.50000000000003,160.867590279355,192.50000000000003,160.32250738133092,194.75000000000003,160.32250738133092,194.75000000000003,158.6872586872587,197.00000000000003,158.6872586872587,197.00000000000003,156.01635248694072,199.25000000000003,156.01635248694072,199.25000000000003,153.61798773563478,201.50000000000003,153.61798773563478,201.50000000000003,147.62207585736996,203.75000000000003,147.62207585736996,203.75000000000003,142.69816034521918,206.00000000000003,142.69816034521918,206.00000000000003,130.4883034294799,208.25000000000003,130.4883034294799,208.25000000000003,116.27980922098571,210.50000000000003,116.27980922098571,210.50000000000003,87.13604360663186,212.75000000000003,87.13604360663186,212.75000000000003,50.39745627980923,215.00000000000003,50.39745627980923,215.00000000000003,19.999999999999996,217.25000000000003,19.999999999999996,217.25000000000003,28.339768339768344,219.50000000000003,28.339768339768344,219.50000000000003,74.39927322280265,221.75000000000003,74.39927322280265,221.75000000000003,121.94867136043608,224.00000000000003,121.94867136043608,224.00000000000003,148.694072223484,226.25000000000003,148.694072223484,226.25000000000003,162.52100840336135,228.50000000000003,162.52100840336135,228.50000000000003,170.04315239609357,230.75000000000003,170.04315239609357,230.75000000000003,173.87690211219623,233.00000000000003,173.87690211219623,233.00000000000003,176.1480808539632,235.25000000000003,176.1480808539632,235.25000000000003,177.2564160799455,237.50000000000003,177.2564160799455,237.5,180.0,12.5,180.0\" stroke=\"black\" fill=\"#ffffff00\" stroke-width=\"1\"/>\n",
       "    <polyline points=\"12.5,180.0,237.5,180.0\" stroke=\"black\" stroke-width=\"1\"/>\n",
       "    <text x=\"12.5\" y=\"190.0\" dominant-baseline=\"middle\" text-anchor=\"start\" fill=\"black\">0.0</text>\n",
       "    <text x=\"237.5\" y=\"190.0\" dominant-baseline=\"middle\" text-anchor=\"end\" fill=\"black\">100.0</text>\n",
       "</svg>\n",
       "</div>\n",
       "    <div style=\"float:left; margin:5px; max-width: 50%; display:flex; justify-content:center; align-items:center;\">\n",
       "        <ul>\n",
       "            <li>edges: 0:100</li>\n",
       "            <li>bin counts: [1054.0, 1315.0, 1645.0, 2006.0, 2436.0, 3286.0, 3531.0, 3401.0, 3382.0, 3509.0  …  8806.0, 8347.0, 5812.0, 3195.0, 1723.0, 962.0, 548.0, 337.0, 212.0, 151.0]</li>\n",
       "            <li>maximum count: 8806.0</li>\n",
       "            <li>total count: 271500.0</li>\n",
       "        </ul>\n",
       "    </div>\n",
       "</div>\n",
       "\n"
      ],
      "text/plain": [
       "edges: 0:100\n",
       "bin counts: [1054.0, 1315.0, 1645.0, 2006.0, 2436.0, 3286.0, 3531.0, 3401.0, 3382.0, 3509.0  …  8806.0, 8347.0, 5812.0, 3195.0, 1723.0, 962.0, 548.0, 337.0, 212.0, 151.0]\n",
       "total count: 271500.0"
      ]
     },
     "execution_count": 46,
     "metadata": {},
     "output_type": "execute_result"
    }
   ],
   "source": [
    "@time main_2(events)"
   ]
  },
  {
   "cell_type": "markdown",
   "id": "ee62e4b1",
   "metadata": {
    "slideshow": {
     "slide_type": "slide"
    }
   },
   "source": [
    "## Better vectorized style via fusion\n",
    "\n",
    "Although Julia's main \"sale point\" (portraited by me here) is \"just write for loops\" and it will work & fast, \n",
    "\n",
    "Quoting some gripes summarized by Jim yesterday:\n",
    "\n",
    ">  - Allocating memory is expensive (a search through fragmented RAM).\n",
    ">  - Accessing new areas of RAM is expensive because it bypasses the CPU caching mechanism.\n",
    ">  - Most mathematical calculations are faster than fetching data from RAM (into CPU caches).\n",
    "\n",
    "While they can't be fundamentally avoided (i.e. if you broadcast, you ask for allocation) unless with really advanced compiler optimization (e.g. escape analysis sees allocated array never gets used, optiized it away).\n",
    "\n",
    "But it can be improved via [Loop fusion](https://julialang.org/blog/2017/01/moredots/)."
   ]
  },
  {
   "cell_type": "markdown",
   "id": "f625746c",
   "metadata": {
    "slideshow": {
     "slide_type": "subslide"
    }
   },
   "source": [
    "You've seen Julia has special syntax for broadcasting:\n",
    "\n",
    "```julia\n",
    "myfunc.(arr .+ 1) .* 2\n",
    "```\n",
    "\n",
    "naively, and indeed in Numpy, this creates 2 copies of unnecessary intermediate copies size `O(arr)`, which is especially problematic if `arr` is a \"branch\" of a `TTree` backed by on-disk bytes, often O(GB).\n",
    "\n",
    "How does having the \"dot\" syntax in Julia help?"
   ]
  },
  {
   "cell_type": "markdown",
   "id": "cb0fcbe1",
   "metadata": {
    "slideshow": {
     "slide_type": "subslide"
    }
   },
   "source": [
    "From Numpy's perspective, there's no way around it: in order to know what to do for `myfunc(...)`, you have to compute `...` first, which result in allocation. There's no \"handle\" for Numpy to see the whole picture, because that's at syntax level and defined by Python.\n",
    "\n",
    "A possible mitigation is to make everything lazy, then you just `.compute()` in the end, this is useful in many cases for more reasons, but is simply not how \"normal Python\" works and creates the problem of \"how much do/can you delay anyway\"."
   ]
  },
  {
   "cell_type": "markdown",
   "id": "a25cd230",
   "metadata": {
    "slideshow": {
     "slide_type": "subslide"
    }
   },
   "source": [
    "If we look at what the code translates to in Julia:"
   ]
  },
  {
   "cell_type": "code",
   "execution_count": 47,
   "id": "0ab828c2",
   "metadata": {
    "slideshow": {
     "slide_type": "-"
    }
   },
   "outputs": [
    {
     "data": {
      "text/plain": [
       ":($(Expr(:thunk, CodeInfo(\n",
       "   \u001b[33m @ none within `top-level scope`\u001b[39m\n",
       "\u001b[90m1 ─\u001b[39m %1 = *\n",
       "\u001b[90m│  \u001b[39m %2 = myfunc\n",
       "\u001b[90m│  \u001b[39m %3 = Base.broadcasted(+, arr, 1)\n",
       "\u001b[90m│  \u001b[39m %4 = Base.broadcasted(%2, %3)\n",
       "\u001b[90m│  \u001b[39m %5 = Base.broadcasted(%1, %4, 2)\n",
       "\u001b[90m│  \u001b[39m %6 = Base.materialize(%5)\n",
       "\u001b[90m└──\u001b[39m      return %6\n",
       "))))"
      ]
     },
     "execution_count": 47,
     "metadata": {},
     "output_type": "execute_result"
    }
   ],
   "source": [
    "Meta.@lower myfunc.(arr .+ 1) .* 2"
   ]
  },
  {
   "cell_type": "markdown",
   "id": "10a48b68",
   "metadata": {},
   "source": [
    "we see that this syntax gets lowered to a special construct, and they gets nested together before \"materialized\" into the result, effectively re-writing your broadcasting code into the ideal form:\n",
    "\n",
    "```julia\n",
    "pre_allocate = Array{inferred type, dimension of arr}(undef, shape(arr))\n",
    "\n",
    "for i in eachindex(arr)\n",
    "    pre_allocate[i] = mufunc(arr[i] + 1) * 2\n",
    "end\n",
    "\n",
    "return pre_allocate\n",
    "```\n",
    "\n",
    "and this will be as fast as ~~humanly~~ computerly possible"
   ]
  },
  {
   "cell_type": "markdown",
   "id": "8b5c7e84",
   "metadata": {
    "slideshow": {
     "slide_type": "slide"
    }
   },
   "source": [
    "## Scale locally (saturate I/O)\n",
    "Multi-threading is easy:"
   ]
  },
  {
   "cell_type": "code",
   "execution_count": 48,
   "id": "03943caa",
   "metadata": {},
   "outputs": [
    {
     "data": {
      "text/plain": [
       "main_looper_MT (generic function with 1 method)"
      ]
     },
     "execution_count": 48,
     "metadata": {},
     "output_type": "execute_result"
    }
   ],
   "source": [
    "function main_looper_MT(events)\n",
    "    hist = Hist1D(Float64; bins=90:140)\n",
    "    Threads.@threads for evt in events\n",
    "        ### Part 1\n",
    "        (; Muon_charge) = evt\n",
    "        if length(Muon_charge) != 4\n",
    "            continue\n",
    "        end\n",
    "        sum(Muon_charge) != 0 && continue # shortcut if-else\n",
    "        \n",
    "        ### Part 2\n",
    "        (; Muon_pt, Muon_eta, Muon_phi, Muon_mass) = evt\n",
    "        higgs_4vector = sum(LorentzVectorCyl.(Muon_pt, Muon_eta, Muon_phi, Muon_mass))\n",
    "        higgs_mass = mass(higgs_4vector)\n",
    "        \n",
    "        ### Part 3\n",
    "        atomic_push!(hist, higgs_mass)\n",
    "    end\n",
    "    \n",
    "    \n",
    "    return hist\n",
    "end"
   ]
  },
  {
   "cell_type": "code",
   "execution_count": 49,
   "id": "541fdd75",
   "metadata": {},
   "outputs": [
    {
     "name": "stdout",
     "output_type": "stream",
     "text": [
      "  0.115506 seconds (231.50 k allocations: 102.094 MiB, 10.20% gc time, 257.10% compilation time)\n"
     ]
    },
    {
     "data": {
      "text/html": [
       "<div style=\"display: flex;\">\n",
       "    <div style=\"float:left; margin:5px\"><svg width=\"250\" height=\"200\" version=\"1.1\" xmlns=\"http://www.w3.org/2000/svg\">\n",
       "    <polyline points=\"12.5,180.0,12.5,178.56518739940216,17.0,178.56518739940216,17.0,178.85950793285815,21.5,178.85950793285815,21.5,178.8962979995401,26.000000000000004,178.8962979995401,26.000000000000004,178.82271786617613,30.500000000000004,178.82271786617613,30.500000000000004,178.52839733272017,35.0,178.52839733272017,35.0,178.60197746608418,39.50000000000001,178.60197746608418,39.50000000000001,178.56518739940216,44.00000000000001,178.56518739940216,44.00000000000001,178.4548171993562,48.50000000000001,178.4548171993562,48.50000000000001,178.19728673258223,53.00000000000001,178.19728673258223,53.00000000000001,177.93975626580826,57.50000000000001,177.93975626580826,57.50000000000001,177.90296619912624,62.00000000000001,177.90296619912624,62.00000000000001,177.3511151988963,66.5,177.3511151988963,66.5,177.24074499885032,71.00000000000001,177.24074499885032,71.00000000000001,177.46148539894227,75.50000000000001,177.46148539894227,75.50000000000001,176.83605426534837,80.00000000000001,176.83605426534837,80.00000000000001,176.3577833984824,84.50000000000001,176.3577833984824,84.50000000000001,177.1671648654863,89.00000000000001,177.1671648654863,89.00000000000001,176.6888939986204,93.50000000000001,176.6888939986204,93.50000000000001,177.13037479880433,98.00000000000001,177.13037479880433,98.00000000000001,177.27753506553233,102.50000000000001,177.27753506553233,102.50000000000001,176.32099333180042,107.00000000000001,176.32099333180042,107.00000000000001,176.02667279834446,111.50000000000001,176.02667279834446,111.50000000000001,176.10025293170844,116.00000000000001,176.10025293170844,116.00000000000001,175.95309266498046,120.50000000000001,175.95309266498046,120.50000000000001,174.62865026442861,125.00000000000001,174.62865026442861,125.00000000000001,174.44469993101862,129.50000000000003,174.44469993101862,129.50000000000003,174.26074959760865,134.00000000000003,174.26074959760865,134.00000000000003,173.08346746378479,138.50000000000003,173.08346746378479,138.50000000000003,172.42124626350886,143.00000000000003,172.42124626350886,143.00000000000003,169.66199126235918,147.50000000000003,169.66199126235918,147.50000000000003,165.9461945274776,152.00000000000003,165.9461945274776,152.00000000000003,157.7052195907105,156.50000000000003,157.7052195907105,156.50000000000003,138.05932398252472,161.00000000000003,138.05932398252472,161.00000000000003,84.16187629340078,165.50000000000003,84.16187629340078,165.50000000000003,19.999999999999996,170.00000000000003,19.999999999999996,170.00000000000003,34.2009657392504,174.50000000000003,34.2009657392504,174.50000000000003,116.24281444010118,179.00000000000003,116.24281444010118,179.00000000000003,159.98620372499425,183.50000000000003,159.98620372499425,183.50000000000003,174.44469993101862,188.00000000000003,174.44469993101862,188.00000000000003,176.90963439871234,192.50000000000003,176.90963439871234,192.50000000000003,178.85950793285815,197.00000000000003,178.85950793285815,197.00000000000003,178.78592779949415,201.50000000000003,178.78592779949415,201.50000000000003,178.8962979995401,206.00000000000003,178.8962979995401,206.00000000000003,179.41135893308805,210.50000000000003,179.41135893308805,210.50000000000003,179.74246953322603,215.00000000000003,179.74246953322603,215.00000000000003,179.55851919981603,219.50000000000003,179.55851919981603,219.50000000000003,179.52172913313407,224.00000000000003,179.52172913313407,224.00000000000003,179.85283973327202,228.50000000000003,179.85283973327202,228.50000000000003,179.63209933318007,233.00000000000003,179.63209933318007,233.00000000000003,179.74246953322603,237.50000000000003,179.74246953322603,237.5,180.0,12.5,180.0\" stroke=\"black\" fill=\"#ffffff00\" stroke-width=\"1\"/>\n",
       "    <polyline points=\"12.5,180.0,237.5,180.0\" stroke=\"black\" stroke-width=\"1\"/>\n",
       "    <text x=\"12.5\" y=\"190.0\" dominant-baseline=\"middle\" text-anchor=\"start\" fill=\"black\">90.0</text>\n",
       "    <text x=\"237.5\" y=\"190.0\" dominant-baseline=\"middle\" text-anchor=\"end\" fill=\"black\">140.0</text>\n",
       "</svg>\n",
       "</div>\n",
       "    <div style=\"float:left; margin:5px; max-width: 50%; display:flex; justify-content:center; align-items:center;\">\n",
       "        <ul>\n",
       "            <li>edges: 90:140</li>\n",
       "            <li>bin counts: [39.0, 31.0, 30.0, 32.0, 40.0, 38.0, 39.0, 42.0, 49.0, 56.0  …  31.0, 33.0, 30.0, 16.0, 7.0, 12.0, 13.0, 4.0, 10.0, 7.0]</li>\n",
       "            <li>maximum count: 4349.0</li>\n",
       "            <li>total count: 18445.0</li>\n",
       "        </ul>\n",
       "    </div>\n",
       "</div>\n",
       "\n"
      ],
      "text/plain": [
       "edges: 90:140\n",
       "bin counts: [39.0, 31.0, 30.0, 32.0, 40.0, 38.0, 39.0, 42.0, 49.0, 56.0  …  31.0, 33.0, 30.0, 16.0, 7.0, 12.0, 13.0, 4.0, 10.0, 7.0]\n",
       "total count: 18445.0"
      ]
     },
     "execution_count": 49,
     "metadata": {},
     "output_type": "execute_result"
    }
   ],
   "source": [
    "h1_MT = @time main_looper_MT(events) # file too small to help"
   ]
  },
  {
   "cell_type": "markdown",
   "id": "3f0f706a",
   "metadata": {
    "slideshow": {
     "slide_type": "slide"
    }
   },
   "source": [
    "## Scale distributedly\n",
    "\n",
    "No runnable demo here, but:\n",
    "- https://indico.jlab.org/event/459/contributions/11560/attachments/9692/14160/High-performance%20end-user%20analysis%20with%20Julia%20language.pdf#page=29\n",
    "- https://jiling.web.cern.ch/jiling/public/ClusterManager.pdf#page=10\n",
    "\n",
    "tl;dr; Julia has Dask primitives built-in, but lacking wholesale solution such as Dask, keep an eye out for: https://github.com/JuliaParallel/Dagger.jl"
   ]
  }
 ],
 "metadata": {
  "celltoolbar": "Slideshow",
  "kernelspec": {
   "display_name": "Julia 1.11.6",
   "language": "julia",
   "name": "julia-1.11"
  },
  "language_info": {
   "file_extension": ".jl",
   "mimetype": "application/julia",
   "name": "julia",
   "version": "1.11.6"
  }
 },
 "nbformat": 4,
 "nbformat_minor": 5
}
